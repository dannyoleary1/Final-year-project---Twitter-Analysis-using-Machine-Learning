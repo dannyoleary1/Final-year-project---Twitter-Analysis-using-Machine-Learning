{
 "cells": [
  {
   "cell_type": "markdown",
   "metadata": {},
   "source": [
    "# Loading the file in Python\n"
   ]
  },
  {
   "cell_type": "markdown",
   "metadata": {},
   "source": [
    "First thing that needs to be done is the Python file has to be loaded. For this a Python library known as Pandas will be used. This was done following a tutorial, and the code is only slightly changed for my purposes (bot1, 2017)."
   ]
  },
  {
   "cell_type": "code",
   "execution_count": 8,
   "metadata": {
    "collapsed": true
   },
   "outputs": [],
   "source": [
    "import pandas\n",
    "import numpy as np\n",
    "from sklearn import svm\n",
    "from sklearn import metrics\n",
    "from collections import Counter\n",
    "from EER import evaluateEER\n",
    "\n",
    "#path     = \"DSL-StrongPasswordData.csv\" \n",
    "data     = pandas.read_csv(\"DSL-StrongPasswordData.csv\")\n",
    "subjects = data[\"subject\"].unique()"
   ]
  },
  {
   "cell_type": "code",
   "execution_count": 9,
   "metadata": {},
   "outputs": [
    {
     "name": "stdout",
     "output_type": "stream",
     "text": [
      "  subject  sessionIndex  rep  H.period  DD.period.t  UD.period.t     H.t  \\\n",
      "0    s002             1    1    0.1491       0.3979       0.2488  0.1069   \n",
      "\n",
      "   DD.t.i  UD.t.i     H.i    ...        H.a  DD.a.n  UD.a.n     H.n  DD.n.l  \\\n",
      "0  0.1674  0.0605  0.1169    ...     0.1349  0.1484  0.0135  0.0932  0.3515   \n",
      "\n",
      "   UD.n.l     H.l  DD.l.Return  UD.l.Return  H.Return  \n",
      "0  0.2583  0.1338       0.3509       0.2171    0.0742  \n",
      "\n",
      "[1 rows x 34 columns]\n"
     ]
    }
   ],
   "source": [
    "print (data.head(1))"
   ]
  },
  {
   "cell_type": "markdown",
   "metadata": {},
   "source": [
    "This is an example of an entry in the dataset. It shows each column for the password in question. The subjects variable keeps track of each subject in the dataset. It will contain a label for each different person in the dataset.:\n"
   ]
  },
  {
   "cell_type": "code",
   "execution_count": 10,
   "metadata": {},
   "outputs": [
    {
     "name": "stdout",
     "output_type": "stream",
     "text": [
      "['s002' 's003' 's004' 's005' 's007' 's008' 's010' 's011' 's012' 's013'\n",
      " 's015' 's016' 's017' 's018' 's019' 's020' 's021' 's022' 's024' 's025'\n",
      " 's026' 's027' 's028' 's029' 's030' 's031' 's032' 's033' 's034' 's035'\n",
      " 's036' 's037' 's038' 's039' 's040' 's041' 's042' 's043' 's044' 's046'\n",
      " 's047' 's048' 's049' 's050' 's051' 's052' 's053' 's054' 's055' 's056'\n",
      " 's057']\n"
     ]
    }
   ],
   "source": [
    "print (subjects)"
   ]
  },
  {
   "cell_type": "markdown",
   "metadata": {},
   "source": [
    "# Training a Machine Learning Model using some of the dataset"
   ]
  },
  {
   "cell_type": "markdown",
   "metadata": {},
   "source": [
    "#TODO ONE CLASS SVM"
   ]
  },
  {
   "cell_type": "code",
   "execution_count": 17,
   "metadata": {
    "collapsed": true
   },
   "outputs": [],
   "source": [
    "class OneClassSVM:\n",
    "    \n",
    "    def __init__(self, subjects):\n",
    "        self.user_scores = []\n",
    "        self.imposter_scores = []\n",
    "        self.mean_vector = []\n",
    "        self.subjects = subjects\n",
    "    \n",
    "    def training(self):\n",
    "        self.clf = svm.OneClassSVM(kernel='rbf',gamma=26)\n",
    "        self.clf.fit(self.train)\n",
    "    \n",
    "    def testing(self):\n",
    "        self.u_scores = -self.clf.decision_function(self.test_genuine)\n",
    "        self.i_scores = -self.clf.decision_function(self.test_imposter)\n",
    "        self.u_scores = list(self.u_scores)\n",
    "        self.i_scores = list(self.i_scores)\n",
    "        self.preds = self.clf.predict(self.test_genuine)\n",
    "        self.imposter_preds = self.clf.predict(self.test_imposter)\n",
    "      #  print (self.preds)\n",
    "    # print (\"___________________\")\n",
    "       # print (Counter(self.preds))\n",
    "       # print (Counter(self.imposter_preds))\n",
    "       # print (\"___________________\")\n",
    "\n",
    "\n",
    "        \n",
    "    def evaluate(self):\n",
    "        eers = []\n",
    " \n",
    "        for subject in subjects:        \n",
    "            genuine_user_data = data.loc[data.subject == subject, \\\n",
    "                                         \"H.period\":\"H.Return\"]\n",
    "            imposter_data = data.loc[data.subject != subject, :]\n",
    "            \n",
    "            \n",
    "            self.train = genuine_user_data[:200]\n",
    "\n",
    "            self.test_genuine = genuine_user_data[200:]\n",
    "\n",
    "\n",
    "            self.test_imposter = imposter_data.groupby(\"subject\"). \\\n",
    "                                 head(5).loc[:, \"H.period\":\"H.Return\"]\n",
    "            \n",
    "            self.training()\n",
    "            self.testing()\n",
    "            eers.append(evaluateEER(self.u_scores, \\\n",
    "                                     self.i_scores))\n",
    "            return np.mean(eers)\n",
    "\n",
    "            "
   ]
  },
  {
   "cell_type": "markdown",
   "metadata": {
    "collapsed": true
   },
   "source": [
    "The evaluate function hopes to break down the dataset into different categories. The genuine_user_data variable will hold the current subjects entries, and then the imposter_data will hold the rest. The set will be trained on 200 entries for training, the genuine will then be made up of 200 more genuine scores which will be used to test accuracy. There will also be tests against imposters. "
   ]
  },
  {
   "cell_type": "code",
   "execution_count": 18,
   "metadata": {},
   "outputs": [
    {
     "name": "stdout",
     "output_type": "stream",
     "text": [
      "0.170437017995\n"
     ]
    }
   ],
   "source": [
    "print(OneClassSVM(subjects).evaluate())"
   ]
  },
  {
   "cell_type": "code",
   "execution_count": null,
   "metadata": {
    "collapsed": true
   },
   "outputs": [],
   "source": []
  },
  {
   "cell_type": "code",
   "execution_count": null,
   "metadata": {
    "collapsed": true
   },
   "outputs": [],
   "source": []
  }
 ],
 "metadata": {
  "kernelspec": {
   "display_name": "Python 3",
   "language": "python",
   "name": "python3"
  },
  "language_info": {
   "codemirror_mode": {
    "name": "ipython",
    "version": 3
   },
   "file_extension": ".py",
   "mimetype": "text/x-python",
   "name": "python",
   "nbconvert_exporter": "python",
   "pygments_lexer": "ipython3",
   "version": "3.6.3"
  }
 },
 "nbformat": 4,
 "nbformat_minor": 2
}
