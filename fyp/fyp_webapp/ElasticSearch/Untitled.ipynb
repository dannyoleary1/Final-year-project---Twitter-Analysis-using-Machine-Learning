{
 "cells": [
  {
   "cell_type": "markdown",
   "metadata": {},
   "source": [
    "# ElasticSearch Utils"
   ]
  },
  {
   "cell_type": "code",
   "execution_count": 1,
   "metadata": {},
   "outputs": [],
   "source": [
    "from elasticsearch import Elasticsearch, helpers\n",
    "import time\n",
    "import fyp_webapp.config as cfg\n",
    "\n",
    "\n",
    "\n",
    "es = Elasticsearch(hosts=[cfg.es_host])\n",
    "\n",
    "\"\"\"Creates an elastic search index. Reads in name as a parameter and outputs if it fails or not.\"\"\"\n",
    "def create_index(name):\n",
    "    # create ES client, create index\n",
    "\n",
    "    if es.indices.exists(name):\n",
    "        return (\"Index already exists!\")\n",
    "    else:\n",
    "        res = es.indices.create(index=name)\n",
    "        return (\" response: '%s'\" % (res))"
   ]
  },
  {
   "cell_type": "code",
   "execution_count": 2,
   "metadata": {},
   "outputs": [
    {
     "data": {
      "text/plain": [
       "\" response: '{'index': 'test', 'shards_acknowledged': True, 'acknowledged': True}'\""
      ]
     },
     "execution_count": 2,
     "metadata": {},
     "output_type": "execute_result"
    }
   ],
   "source": [
    "create_index(\"test\")"
   ]
  },
  {
   "cell_type": "markdown",
   "metadata": {},
   "source": []
  },
  {
   "cell_type": "code",
   "execution_count": null,
   "metadata": {},
   "outputs": [],
   "source": []
  }
 ],
 "metadata": {
  "kernelspec": {
   "display_name": "Python 3",
   "language": "python",
   "name": "python3"
  },
  "language_info": {
   "codemirror_mode": {
    "name": "ipython",
    "version": 3
   },
   "file_extension": ".py",
   "mimetype": "text/x-python",
   "name": "python",
   "nbconvert_exporter": "python",
   "pygments_lexer": "ipython3",
   "version": "3.5.4"
  }
 },
 "nbformat": 4,
 "nbformat_minor": 2
}
